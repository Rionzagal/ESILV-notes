{
 "cells": [
  {
   "cell_type": "markdown",
   "metadata": {},
   "source": [
    "---\n",
    "title: TD4\n",
    "author: Mario GONZÁLEZ\n",
    "date: 30/11/2022\n",
    "---"
   ]
  },
  {
   "cell_type": "code",
   "execution_count": null,
   "metadata": {},
   "outputs": [],
   "source": [
    "import numpy as np\n",
    "from matplotlib import pyplot as plt"
   ]
  },
  {
   "cell_type": "markdown",
   "metadata": {},
   "source": [
    "# Excercise I\n",
    "\n",
    "Consider the following equation, describing a continuous-time logistic population\n",
    "growth model:\n",
    "\n",
    "$$\n",
    "    N'(t) = r N(t) (1 - \\frac{N(t)}{K})\n",
    "$$\n",
    "\n",
    "## Question A:\n",
    "Demonstrate that the following function is a solution of the logistic equation:\n",
    "$$\n",
    "    N(t) = N_0 \\frac{K e^{r t}}{K + N_0 (e^{rt} - 1)}\n",
    "$$\n",
    "\n",
    "### Answer I-A:\n",
    "In order to demonstrate this statement, first we obtain the derivative of the equation.\n",
    "$$\n",
    "    N'(t) = N_0 K \\left\\{ \\frac{r e^{rt} \\left[k + N_0 \\left(e^{rt} - 1 \\right) \\right] - e^{rt} \\left(N_0 r e^{rt} \\right)}{\\left[k + N_0 \\left(e^{rt} - 1 \\right) \\right]^2} \\right\\} \\\\\n",
    "    N'(t) = N_0 K \\left\\{ \\frac{r e^{rt} \\left[k + N_0 \\left(e^{rt} - 1 \\right) \\right]}{\\left[k + N_0 \\left(e^{rt} - 1 \\right) \\right]^2} - \\frac{e^{rt} \\left(N_0 r e^{rt} \\right)}{\\left[k + N_0 \\left(e^{rt} - 1 \\right) \\right]^2} \\right\\} \\\\\n",
    "    N'(t) = N_0 K \\left\\{ \\frac{r e^{rt}}{k + N_0 \\left(e^{rt} - 1 \\right)} - \\frac{N_0 r e^{2rt}}{\\left[k + N_0 \\left(e^{rt} - 1 \\right) \\right]^2} \\right\\} \\\\\n",
    "    N'(t) = r \\left[N_0 \\frac{K e^{rt}}{K + N_0 \\left(e^{rt} - 1 \\right)} \\right] - r \\left[\\frac{K N_0^2 e^{2rt}}{\\left[k + N_0 \\left(e^{rt} - 1 \\right) \\right]^2} \\right] \\\\\n",
    "    N'(t) = r \\left[N_0 \\frac{K e^{rt}}{K + N_0 \\left(e^{rt} - 1 \\right)} \\right] - \\frac{r}{K} \\left[N_0 \\frac{K e^{rt}}{k + N_0 \\left(e^{rt} - 1 \\right)} \\right]^2\n",
    "$$\n",
    "\n",
    "Knowing that the equation stands as $N(t) = N_0 \\frac{K e^{rt}}{K + N_0 (e^{rt} - 1)}$, we can apply this equality as:\n",
    "$$\n",
    "    N'(t) = r N(t) - \\frac{r}{K} N^2(t) \\; \\therefore \\\\\n",
    "    N'(t) = r N(t) \\left( 1 - \\frac{N(t)}{K} \\right)\n",
    "$$\n",
    "\n",
    "## Question B:\n",
    "Check that this solution follows the equilibria and stability discussed in the lecture (i.e. prove that this function behaves like shown on the plots during the lecture).\n",
    "\n",
    "# Excercise II\n",
    "Consider the flow diagrams for the following epidemiological models:\n",
    "\n",
    "![Flow Diagrams](images/e2_flow_diagrams.png)\n",
    "\n",
    "For each of the three models:\n",
    "## Question A:\n",
    "Explain what the model is, what is happening and what the parameters might\n",
    "represent.\n",
    "## Question B:\n",
    "Write down the corresponding ODE (Ordinary Differential Equation) system.\n",
    "## Question C:\n",
    "Determine the equilibria of the system.\n",
    "## Question D:\n",
    "Guess how the system will behave (provide and use the value )."
   ]
  }
 ],
 "metadata": {
  "kernelspec": {
   "display_name": "Python 3.10.8 64-bit",
   "language": "python",
   "name": "python3"
  },
  "language_info": {
   "name": "python",
   "version": "3.10.8"
  },
  "orig_nbformat": 4,
  "vscode": {
   "interpreter": {
    "hash": "f0d19069fd8f020fa5472c508cc2a848e65b399e6b568e5d8ab97f10e19ca8b7"
   }
  }
 },
 "nbformat": 4,
 "nbformat_minor": 2
}
