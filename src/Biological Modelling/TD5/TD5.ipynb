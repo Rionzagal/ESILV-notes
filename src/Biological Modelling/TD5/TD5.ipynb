{
 "cells": [
  {
   "cell_type": "markdown",
   "metadata": {},
   "source": [
    "# Modelling of Biological Systems - Project 1 : a discrete model, the cellular automaton\n",
    "By Mario GONZÁLEZ\n",
    "\n",
    "To better understand cell migration, we propose to study cell automaton that will show\n",
    "a monodimensional migration on a discrete chain. The aim is to reproduce the World\n",
    "First Cell Race filmed by the research group of Maiuri et al. in 2011: [video](https://www.youtube.com/watch?v=RjYmy31znlI)\n",
    "\n",
    "To do so, let us organize a race between 2 cells. Let us consider two 1D cellular\n",
    "automata. For each of them, a unique cell is present at $t=0$ on the first site of the chain\n",
    "$i=0$. A cell finishes the race when it reaches the last site $i=L$.\n",
    "1. The first cell automaton is following these rules:\n",
    "   \n",
    "    - Rule (a): the shape of this cell is round and to simplify, we will assume it occupies one site $i$.\n",
    "    - Rule (b): the probability at every timestep to hop to the right is $\\alpha$ (it can not hop to the left)\n",
    "    - Rule (c): a jump allows the cell to move from one site $i$ to another site $i+1$.\n",
    "\n",
    "2. The second cell automaton is following these rules :\n",
    "    - Rule (a): the cell can have two shapes: amoeboid (A) or mesenchymal (M). If the cell is amoeboid (round), it cannot hop, the cell occupies one site and is motionless. If the cell is mesenchymal, the cell shape is stretched and the cell occupies two sites i and $i+1$ and can hop from a site $i$ to a site $i+2$ with a probability $2 \\alpha$ .\n",
    "    - Rule (b): the transition rate between state (A) and state (M) is $\\beta$ at each iteration, and the transition rate between (M) state and (A) state is $1 - \\beta$.\n",
    "\n",
    "## Question A:\n",
    "depending on $(\\alpha, \\beta) \\in [0, 0.5], [0, 1]$ , what cell is more likely to win the race? To answer this equation we will use a Monte Carlo-like approach, calculating the average time $<t_{final}> = \\frac{1}{N_s} \\sum_k t_{f, k}$ for a cell to get to the last site L of the chain, where $t_{f, k}$ is related to the simulation $k$, and $N_s$ is the number of simulations.\n",
    "> You can start with $(\\alpha, \\beta) = (0.25, 0.25)$. A display (short video) of the process is more than welcome.\n",
    "\n",
    "## Question B:\n",
    "define a normalized duration $\\tau_1^{\\alpha, \\beta} = \\frac{<t_{final(\\alpha, \\beta)}>}{L_1}$ for model 1 and $\\tau_2^{\\alpha, \\beta} = \\frac{<t_{final(\\alpha, \\beta)}>}{L_2}$ for model 2 (the chain sizes can be set at $L_1 = L_2 = L$). Define the ratio $\\zeta = \\frac{\\tau_1^{\\alpha, \\beta}}{\\tau_2^{\\alpha, \\beta}}$ as the quantity that characterizes who won the race on average (and by how much). Plot the heat map for $(\\alpha, \\beta) \\in [0, 0.5], [0, 1]$ of the quantity $\\zeta = \\frac{\\tau_1^{\\alpha, \\beta}}{\\tau_2^{\\alpha, \\beta}}$ Comment on the influence of $\\beta$ in the migration process."
   ]
  },
  {
   "cell_type": "code",
   "execution_count": null,
   "metadata": {},
   "outputs": [],
   "source": []
  }
 ],
 "metadata": {
  "kernelspec": {
   "display_name": "Python 3.10.8 64-bit",
   "language": "python",
   "name": "python3"
  },
  "language_info": {
   "name": "python",
   "version": "3.10.8"
  },
  "orig_nbformat": 4,
  "vscode": {
   "interpreter": {
    "hash": "f0d19069fd8f020fa5472c508cc2a848e65b399e6b568e5d8ab97f10e19ca8b7"
   }
  }
 },
 "nbformat": 4,
 "nbformat_minor": 2
}
