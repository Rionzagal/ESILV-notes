{
 "cells": [
  {
   "cell_type": "markdown",
   "metadata": {},
   "source": [
    "Let us consider a cell density of low grade glioma LGG (grade I/II brain tumors).\n",
    "General diffusion equations, as heat equation, follow:\n",
    "$$\\frac{\\partial \\rho}{\\partial t} = D \\Delta \\rho$$\n",
    "where $D$ is the diffusion rate.\n",
    "\n",
    "We want to apply this equation to glioma cell density, assuming the brain is homogeneous. For our biological application, $D$ might depends on cell positions in the brain (diffusivity should be heterogeneous), but it will be assumed constant here. $\\Delta \\rho$ here denotes the Laplacian of the $\\rho$ function."
   ]
  },
  {
   "cell_type": "code",
   "execution_count": null,
   "metadata": {},
   "outputs": [],
   "source": []
  }
 ],
 "metadata": {
  "kernelspec": {
   "display_name": "Python 3.10.8 64-bit",
   "language": "python",
   "name": "python3"
  },
  "language_info": {
   "name": "python",
   "version": "3.10.8"
  },
  "orig_nbformat": 4,
  "vscode": {
   "interpreter": {
    "hash": "f0d19069fd8f020fa5472c508cc2a848e65b399e6b568e5d8ab97f10e19ca8b7"
   }
  }
 },
 "nbformat": 4,
 "nbformat_minor": 2
}
