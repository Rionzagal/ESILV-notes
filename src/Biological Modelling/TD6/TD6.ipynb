{
 "cells": [
  {
   "attachments": {},
   "cell_type": "markdown",
   "metadata": {},
   "source": [
    "Let us consider a cell density of low grade glioma LGG (grade I/II brain tumors).\n",
    "General diffusion equations, as heat equation, follow:\n",
    "$$\\frac{\\partial \\rho}{\\partial t} = D \\Delta \\rho$$\n",
    "where $D$ is the diffusion rate.\n",
    "\n",
    "We want to apply this equation to glioma cell density, assuming the brain is homogeneous. For our biological application, $D$ might depends on cell positions in the brain (diffusivity should be heterogeneous), but it will be assumed constant here. $\\Delta \\rho$ here denotes the Laplacian of the $\\rho$ function.\n",
    "\n",
    "## A. \n",
    "To introduce a proliferation term, it is generally accepted to add a proliferation\n",
    "rate $\\kappa$ of this cell density $\\rho$. To limit an infinite number of cells due to an infinite\n",
    "proliferation, we will coupled it with a saturation term $1 - \\rho$ to obtain finally a\n",
    "logistic function of $\\rho$. Write the new equation for $\\rho$.\n",
    "\n",
    "### Answer II-A.\n",
    "Taking into consideration the application of the saturation factor of the function $\\rho$, the proliferation function would be expressed as follows.\n",
    "\n",
    "$$\\frac{\\partial \\rho}{\\partial t} = D \\bigtriangleup \\rho + \\kappa \\rho (1 - \\rho)$$\n",
    "\n",
    "## B. \n",
    "What is the general shape of a low grade tumor? What spatial coordinates are you likely to use?\n",
    "\n",
    "### Answer II-B.\n",
    "The general shape of a low grade tumor is usually a _sphere_, taking into consideration that the tumor is in fact benign and starts forming a hyperdense mass before metastasing. For this reason, the most appropiated spatial coordinates notation to use is the _spherical_ notation, consisting of a radius $r$, and two angles $\\theta$, $\\phi$.\n",
    "\n",
    "## C.\n",
    "What symmetrical considerations could you make on $\\rho$? We assume $\\rho$ depending only on its radial distance $r$ (i.e. $\\rho = \\rho(r)$).\n",
    "Show that $\\rho$ follows the Diffusion Proliferation Saturation DPS equation:\n",
    "\n",
    "$$\n",
    "    \\frac{\\partial \\rho}{\\partial t} = D \\left( \\frac{\\partial \\rho}{\\partial r^2} + \\frac{2}{r} \\frac{\\partial \\rho}{\\partial r} \\right) + \\kappa \\rho (1 - \\rho)\n",
    "$$\n",
    "\n",
    "### Answer II-C.\n",
    "Considering the usage of the spherical coordinate notation as the spatial coordinate system for this model, we can assume that the cell density of the tumor will symetrically change through all angles varying uniformly depending on the radius $r$.\n",
    "\n",
    "Considering the fact that the model uses the spherical coordinate notation in order to model the spatial evolution of this system, the Laplacian of this model can be considered as follows.\n",
    "\n",
    "$$\n",
    "    \\bigtriangleup \\rho = \\frac{1}{r^2} \\frac{\\partial}{\\partial r} \\left( r^2 \\frac{\\partial \\rho}{\\partial r} \\right) + \\frac{1}{r^2 sin(\\theta)} \\frac{\\partial}{\\partial \\theta} \\left( sin(\\theta) \\frac{\\partial \\rho}{\\partial \\theta} \\right) + \\frac{1}{r^2 sin^2(\\theta)} \\frac{\\partial^2 \\rho}{\\partial \\phi^2}\n",
    "$$\n",
    "\n",
    "Since the current model considers that the cell density $\\rho$ changes uniformly through the angles, and that it only depends on the radius $r$, the angular analysis is eliminated from the equation, and thus leaving the Laplacian operator depending on the radius $r$ in the operation as follows.\n",
    "\n",
    "$$\n",
    "    \\frac{\\partial \\rho}{\\partial t} = D \\left[ \\frac{1}{r^2} \\frac{\\partial}{\\partial r} \\left( r^2 \\frac{\\partial \\rho}{\\partial r} \\right) \\right] + \\kappa \\rho (1 - \\rho) \\\\\n",
    "    \\Rightarrow \\frac{\\partial \\rho}{\\partial t} = D \\left[ \\frac{1}{r^2} \\left( 2 r \\frac{\\partial \\rho}{\\partial r} + r^2 \\frac{\\partial^2 \\rho}{\\partial r^2} \\right) \\right] + \\kappa \\rho (1 - \\rho) \\\\\n",
    "    \\Rightarrow \\frac{\\partial \\rho}{\\partial t} = D \\left( \\frac{\\partial^2 \\rho}{\\partial r^2} + \\frac{2}{r} \\frac{\\partial \\rho}{\\partial r} \\right) + \\kappa \\rho (1 - \\rho)\n",
    "$$\n",
    "\n",
    "## D.\n",
    "Set $u = \\rho r$ and find a new equation $E’$ depending on the variable $u$. We set $u(r = 0, t) = 0$ and $\\frac{\\partial \\rho}{\\partial r}(r = 0, t) = \\rho(t = 0, t)$.\n",
    "\n",
    "### Answer II-D.\n",
    "\n",
    "Considering that $u = \\rho r$, then the statement $\\rho = \\frac{u}{r}$ is correct, and used to substitute $\\rho$ in the equation as follows.\n",
    "\n",
    "$$\n",
    "    \\frac{\\partial \\rho}{\\partial t} = D \\left( \\frac{\\partial^2 \\rho}{\\partial r^2} + \\frac{2}{r} \\frac{\\partial \\rho}{\\partial r} \\right) + \\kappa \\rho (1 - \\rho) \\\\\n",
    "    \\Rightarrow \\frac{\\partial}{\\partial t} \\frac{u}{r} = D \\left[ \\frac{\\partial^2}{\\partial r^2} \\left( \\frac{u}{r} \\right) + \\frac{2}{r} \\frac{\\partial}{\\partial r} \\left( \\frac{u}{r} \\right) \\right] + \\kappa \\left( \\frac{u}{r} \\right) \\left( 1 - \\frac{u}{r} \\right)\n",
    "$$\n",
    "\n",
    "Considering this equation, the partial derivative $\\frac{\\partial}{\\partial r} \\left( \\frac{u}{r} \\right)$ results as $\\frac{1}{r} \\frac{\\partial u}{\\partial t}$. On the other hand, the argument of the Laplacian $\\bigtriangleup \\rho$ in terms of $u$ results as follows.\n",
    "\n",
    "$$\n",
    "    \\frac{\\partial}{\\partial r} \\left( \\frac{u}{r} \\right) = \\frac{1}{r} \\frac{\\partial u}{\\partial r} + \\left( \\frac{-1}{r^2} u \\right) = \\frac{1}{r} \\frac{\\partial u}{\\partial r} - \\frac{u}{r^2}; \\\\\n",
    "    \\frac{\\partial^2}{\\partial r^2} \\left( \\frac{u}{r} \\right) = \\frac{\\partial}{\\partial r} \\left( \\frac{1}{r} \\frac{\\partial u}{\\partial r} - \\frac{u}{r^2} \\right) \\; \\therefore \\; \\frac{\\partial^2}{\\partial r^2} \\left( \\frac{u}{r} \\right) = \\frac{1}{r} \\frac{\\partial^2 u}{\\partial r^2} - \\frac{2}{r^2} \\frac{\\partial u}{\\partial r} + \\frac{2 u}{r^3}\n",
    "$$\n",
    "\n",
    "Applying the resulting partial derivatives to the heat equation above, the model results in the following equation:\n",
    "\n",
    "$$\n",
    "    \\frac{\\partial u}{\\partial t} \\frac{1}{r} = D \\left[ \\frac{1}{r} \\frac{\\partial^2 u}{\\partial r^2} - \\frac{2}{r^2} \\frac{\\partial u}{\\partial r} + \\frac{2 u}{r^3} + \\frac{2}{r} \\left( \\frac{1}{r} \\frac{\\partial u}{\\partial r} - \\frac{u}{r^2} \\right) \\right] + \\kappa \\left( \\frac{u}{r} \\right) \\left( 1 - \\frac{u}{r} \\right) \\\\\n",
    "    \\Rightarrow \\frac{\\partial u}{\\partial t} \\frac{1}{r} = D \\left[ \\frac{1}{r} \\frac{\\partial^2 u}{\\partial r^2} - \\frac{2}{r^2} \\frac{\\partial u}{\\partial r} + \\frac{2 u}{r^3} + \\frac{2}{r^2} \\frac{\\partial u}{\\partial r} - \\frac{2 u}{r^3} \\right] + \\kappa \\left( \\frac{u}{r} \\right) \\left( 1 - \\frac{u}{r} \\right) \\\\\n",
    "    \\therefore \\frac{\\partial u}{\\partial t} = D \\left( \\frac{\\partial^2 u}{\\partial r^2} \\right) + \\kappa u \\left( 1 - \\frac{u}{r} \\right)\n",
    "$$\n",
    "\n",
    "## E.\n",
    "This equation $E’$ is not analytically solvable (because of the nonlinear proliferation saturation term). We will use a numerical approach to solve it. Instead of using a classical but unstable Euler’s method, we will use a _Crank-Nicolson_ method that was first invented to solve the heat equation. To avoid chaotic oscillations, we will assume that $\\left( u_j^n \\right)^2 \\approx u_j^n u_j^{n+1}$ for $n > 1$. Starting from your equation $E’$ , show that the numerical scheme of the function $u$ can be written as the following:\n",
    "\n",
    "$$u_j^{n+1} = u_j^n \\left( 1 - 2 \\alpha + \\kappa \\Delta t - \\kappa \\frac{\\Delta t}{r_j} u_j^{n+1} \\right) + \\alpha (u_j{+1}^n - u_{j-1}^n)$$\n",
    "\n",
    "where $\\alpha = \\frac{D \\Delta t}{\\Delta r^2}, r_j = j \\Delta r, t_n = n \\Delta t, \\rho_j^n = \\frac{u_j^n}{r_j}$. Note that $u_j^n = u_{-j}^n$. This expression can be written only depending on $u_j^{n+1}$ as follows:\n",
    "\n",
    "$$u_j^{n+1} = \\frac{u_j^n \\left( 1 - 2 \\alpha + \\kappa \\Delta t \\right) + \\alpha \\left( u_{j+1}^n - u_{j-1}^n \\right)}{1 + \\frac{\\kappa \\Delta t u_j^n}{r_j}}$$\n",
    "\n",
    "### Answer II-E.\n",
    "\n",
    "Considering the _Crank-Niclolson_ method, the following transformations will be applied to the model for the sake of discretizing it.\n",
    "\n",
    "- The finite difference assumption for the difference $a$ being conveniently small: $u'(a) = \\lim_{h \\rightarrow 0} \\left( \\frac{u(a + h) - u(a)}{h} \\right) \\approx \\frac{u(a + \\Delta a) - u(a)}{\\Delta a}$\n",
    "- A notation change such as $u(r, t) = u_j^n$ where $r \\rightarrow j$, $t \\rightarrow n$.\n",
    "\n",
    "Applying these transformations, the model will result as follows:\n",
    "\n",
    "$$\n",
    "    \\frac{u_j^{n+1} - u_j^n}{\\Delta t} = D \\left( \\frac{u_{j+1}^n - 2 u_j^n + u_{j-1}^n}{\\Delta r^2} \\right) + \\kappa \\left( u_j^n - \\frac{u_j^n u_j^{n+1}}{r_j} \\right) \\\\\n",
    "    \\Rightarrow u_j^{n+1} - u_j^n = \\frac{\\Delta t D}{\\Delta r^2} \\left( u_{j+1}^n - 2 u_j^n + u_{j-1}^n \\right) + \\Delta t \\kappa \\left( u_j^n - \\frac{u_j^n u_j^{n+1}}{r_j} \\right) \\\\\n",
    "    \\Rightarrow u_j^{n+1} = \\alpha \\left( u_{j+1}^n - 2 u_j^n + u_{j-1}^n \\right) + \\kappa \\Delta t \\left( u_j^n - \\frac{u_j^n u_j^{n+1}}{r_j} \\right) + u_j^n \\\\\n",
    "    \\Rightarrow u_j^{n+1} = u_j^n \\left( 1 - 2 \\alpha + \\kappa \\Delta t - u_j^{n+1} \\frac{\\kappa \\Delta t}{r_j} \\right) + \\alpha \\left( u_{j+1}^n + u_{j-1}^n \\right) \\\\\n",
    "$$\n",
    "\n",
    "For the model to be completely dependant of $u_j^{n+1}$, the resulting equation must be re-interpreted as follows.\n",
    "$$\n",
    "    u_j^{n+1} = u_j^n \\left( 1 - 2 \\alpha + \\kappa \\Delta t - u_j^{n+1} \\frac{\\kappa \\Delta t}{r_j} \\right) + \\alpha \\left( u_{j+1}^n + u_{j-1}^n \\right) \\\\\n",
    "    \\Rightarrow u_j^{n+1} + u_j^n u_j^{n+1} \\frac{\\kappa \\Delta t}{r_j} = u_j^n \\left( 1 - 2 \\alpha + \\kappa \\Delta t \\right) + \\alpha \\left( u_{j+1}^n + u_{j-1}^n \\right) \\\\\n",
    "    \\Rightarrow u_j^{n+1} \\left( 1 + u_j^n \\frac{\\kappa \\Delta t}{r_j} \\right) = u_j^n \\left( 1 - 2 \\alpha + \\kappa \\Delta t \\right) + \\alpha \\left( u_{j+1}^n + u_{j-1}^n \\right) \\\\\n",
    "    \\Rightarrow u_j^{n+1} = \\frac{u_j^n \\left( 1 - 2 \\alpha + \\kappa \\Delta t \\right) + \\alpha \\left( u_{j+1}^n + u_{j-1}^n \\right)}{1 + u_j^n \\frac{\\kappa \\Delta t}{r_j}} \\\\\n",
    "$$\n",
    "\n",
    "## F.\n",
    "Use your numerical scheme to compute your solution in your favorite programming language. We want $\\rho$ with respect to $t$ (in years). This link could help you especially if you use Python: [link here!](https://levelup.gitconnected.com/solving-2d-heat-equation-numerically-using-python-3334004aa01a)\n",
    "\n",
    "For this part, you could use these informations:\n",
    "\n",
    "- $\\Delta r = 0.02 mm$ as the average size of a LGG cell $(\\approx 20 \\mu m)$ and will watch the evolution of $\\rho$ up to 100 mm;\n",
    "- $\\Delta t = 0.001$ year, up to a many years evolution;\n",
    "- $\\rho(r_0, t_0) = 1$;\n",
    "- final tumor expected : between $10^3$ and $10^4$ cells for a small tumor;\n",
    "- initial condition : one single mutated cell;\n",
    "- in the case of a compact tumor, $\\kappa = 10 year{-1}$ and $D = 0.01 mm^2 / year$;\n",
    "- in the case of a diffuse tumor, $\\kappa = 1.0 year{-1}$ and $D = 0.7 mm^2 / year$;\n",
    "- edge growth velocity approximated: $\\nu = 2 \\sqrt{\\kappa D}$\n",
    "### Answer II-F."
   ]
  },
  {
   "cell_type": "code",
   "execution_count": 7,
   "metadata": {},
   "outputs": [],
   "source": [
    "import numpy as np\n",
    "import matplotlib.pyplot as plt\n",
    "\n",
    "# Calculate the cellular density of the tumor over time and radius.\n",
    "def calculate(u:np.ndarray, D:float, k:float, dt:float, dr:float, initial_condition:float=1) -> np.ndarray:\n",
    "    u.fill(initial_condition)\n",
    "    alpha = D * dt / (dr ** 2)\n",
    "    for j in range(1,u.shape[0]-1,1):\n",
    "        for n in range(0,u.shape[1]-1,1):\n",
    "            u[j][n+1]=(u[j][n]*(1-2*alpha+k*dt)+alpha*(u[j+1][n]+u[j-1][n]))/(1+(u[j][n]*k*dt/(j*dr)))\n",
    "    print(np.max(u))\n",
    "    return u"
   ]
  },
  {
   "cell_type": "code",
   "execution_count": 9,
   "metadata": {},
   "outputs": [
    {
     "name": "stdout",
     "output_type": "stream",
     "text": [
      "1.6485356980003598\n"
     ]
    },
    {
     "data": {
      "text/plain": [
       "<matplotlib.colorbar.Colorbar at 0x1789f546800>"
      ]
     },
     "execution_count": 9,
     "metadata": {},
     "output_type": "execute_result"
    },
    {
     "data": {
      "image/png": "[encoded data removed]",
      "text/plain": [
       "<Figure size 432x288 with 2 Axes>"
      ]
     },
     "metadata": {
      "needs_background": "light"
     },
     "output_type": "display_data"
    }
   ],
   "source": [
    "# Maximum evaluation horizons\n",
    "MAX_ITER_TIME = 10 # Years of evaluation\n",
    "MAX_RADIUS = 100 # The maximum evaluation radius\n",
    "\n",
    "# Determine the time and spatial steps\n",
    "dt = 0.001  # Time-step in years\n",
    "dr = 0.02 # Spatial step in mm\n",
    "\n",
    "u0 = 1 # Initial conditions\n",
    "\n",
    "# Initialize the time and radius tensors based on the boundaries and differences.\n",
    "t = np.linspace(0, MAX_ITER_TIME, int(MAX_ITER_TIME/ dt))\n",
    "r = np.linspace(0, MAX_RADIUS, int(MAX_RADIUS/ dr))\n",
    "Time, Radius = np.meshgrid(t, r)\n",
    "\n",
    "rho_0 = calculate(np.zeros((int(MAX_RADIUS/dr), int(MAX_ITER_TIME/dt))),0.01,10,dt,dr, u0)\n",
    "plt.figure()\n",
    "plt.title(\"Cell density of a Small, Compact tumor\")\n",
    "plt.ylabel(\"Radius [mm]\")\n",
    "plt.xlabel(\"Time [years]\")\n",
    "plt.pcolormesh(Time, Radius, rho_0, cmap=\"jet\", vmin=0)\n",
    "plt.colorbar()"
   ]
  },
  {
   "cell_type": "code",
   "execution_count": 10,
   "metadata": {},
   "outputs": [
    {
     "name": "stderr",
     "output_type": "stream",
     "text": [
      "C:\\Users\\mgzzg\\AppData\\Local\\Temp\\ipykernel_69840\\1042790657.py:10: RuntimeWarning: overflow encountered in double_scalars\n",
      "  u[j][n+1]=(u[j][n]*(1-2*alpha+k*dt)+alpha*(u[j+1][n]+u[j-1][n]))/(1+(u[j][n]*k*dt/(j*dr)))\n",
      "C:\\Users\\mgzzg\\AppData\\Local\\Temp\\ipykernel_69840\\1042790657.py:10: RuntimeWarning: invalid value encountered in double_scalars\n",
      "  u[j][n+1]=(u[j][n]*(1-2*alpha+k*dt)+alpha*(u[j+1][n]+u[j-1][n]))/(1+(u[j][n]*k*dt/(j*dr)))\n"
     ]
    },
    {
     "name": "stdout",
     "output_type": "stream",
     "text": [
      "nan\n"
     ]
    },
    {
     "name": "stderr",
     "output_type": "stream",
     "text": [
      "c:\\Users\\mgzzg\\AppData\\Local\\Programs\\Python\\Python310\\lib\\site-packages\\matplotlib\\colorbar.py:1106: RuntimeWarning: overflow encountered in add\n",
      "  self._values = 0.5 * (self._boundaries[:-1] + self._boundaries[1:])\n"
     ]
    },
    {
     "data": {
      "text/plain": [
       "<matplotlib.colorbar.Colorbar at 0x178a05f5300>"
      ]
     },
     "execution_count": 10,
     "metadata": {},
     "output_type": "execute_result"
    },
    {
     "name": "stderr",
     "output_type": "stream",
     "text": [
      "c:\\Users\\mgzzg\\AppData\\Local\\Programs\\Python\\Python310\\lib\\site-packages\\matplotlib\\ticker.py:2101: RuntimeWarning: overflow encountered in multiply\n",
      "  steps = self._extended_steps * scale\n"
     ]
    },
    {
     "ename": "MemoryError",
     "evalue": "Unable to allocate 1.49 GiB for an array with shape (50000000, 4) and data type float64",
     "output_type": "error",
     "traceback": [
      "\u001b[1;31m---------------------------------------------------------------------------\u001b[0m",
      "\u001b[1;31mMemoryError\u001b[0m                               Traceback (most recent call last)",
      "File \u001b[1;32mc:\\Users\\mgzzg\\AppData\\Local\\Programs\\Python\\Python310\\lib\\site-packages\\IPython\\core\\formatters.py:339\u001b[0m, in \u001b[0;36mBaseFormatter.__call__\u001b[1;34m(self, obj)\u001b[0m\n\u001b[0;32m    337\u001b[0m     \u001b[39mpass\u001b[39;00m\n\u001b[0;32m    338\u001b[0m \u001b[39melse\u001b[39;00m:\n\u001b[1;32m--> 339\u001b[0m     \u001b[39mreturn\u001b[39;00m printer(obj)\n\u001b[0;32m    340\u001b[0m \u001b[39m# Finally look for special method names\u001b[39;00m\n\u001b[0;32m    341\u001b[0m method \u001b[39m=\u001b[39m get_real_method(obj, \u001b[39mself\u001b[39m\u001b[39m.\u001b[39mprint_method)\n",
      "File \u001b[1;32mc:\\Users\\mgzzg\\AppData\\Local\\Programs\\Python\\Python310\\lib\\site-packages\\IPython\\core\\pylabtools.py:151\u001b[0m, in \u001b[0;36mprint_figure\u001b[1;34m(fig, fmt, bbox_inches, base64, **kwargs)\u001b[0m\n\u001b[0;32m    148\u001b[0m     \u001b[39mfrom\u001b[39;00m \u001b[39mmatplotlib\u001b[39;00m\u001b[39m.\u001b[39;00m\u001b[39mbackend_bases\u001b[39;00m \u001b[39mimport\u001b[39;00m FigureCanvasBase\n\u001b[0;32m    149\u001b[0m     FigureCanvasBase(fig)\n\u001b[1;32m--> 151\u001b[0m fig\u001b[39m.\u001b[39mcanvas\u001b[39m.\u001b[39mprint_figure(bytes_io, \u001b[39m*\u001b[39m\u001b[39m*\u001b[39mkw)\n\u001b[0;32m    152\u001b[0m data \u001b[39m=\u001b[39m bytes_io\u001b[39m.\u001b[39mgetvalue()\n\u001b[0;32m    153\u001b[0m \u001b[39mif\u001b[39;00m fmt \u001b[39m==\u001b[39m \u001b[39m'\u001b[39m\u001b[39msvg\u001b[39m\u001b[39m'\u001b[39m:\n",
      "File \u001b[1;32mc:\\Users\\mgzzg\\AppData\\Local\\Programs\\Python\\Python310\\lib\\site-packages\\matplotlib\\backend_bases.py:2314\u001b[0m, in \u001b[0;36mFigureCanvasBase.print_figure\u001b[1;34m(self, filename, dpi, facecolor, edgecolor, orientation, format, bbox_inches, pad_inches, bbox_extra_artists, backend, **kwargs)\u001b[0m\n\u001b[0;32m   2308\u001b[0m     renderer \u001b[39m=\u001b[39m _get_renderer(\n\u001b[0;32m   2309\u001b[0m         \u001b[39mself\u001b[39m\u001b[39m.\u001b[39mfigure,\n\u001b[0;32m   2310\u001b[0m         functools\u001b[39m.\u001b[39mpartial(\n\u001b[0;32m   2311\u001b[0m             print_method, orientation\u001b[39m=\u001b[39morientation)\n\u001b[0;32m   2312\u001b[0m     )\n\u001b[0;32m   2313\u001b[0m     \u001b[39mwith\u001b[39;00m \u001b[39mgetattr\u001b[39m(renderer, \u001b[39m\"\u001b[39m\u001b[39m_draw_disabled\u001b[39m\u001b[39m\"\u001b[39m, nullcontext)():\n\u001b[1;32m-> 2314\u001b[0m         \u001b[39mself\u001b[39;49m\u001b[39m.\u001b[39;49mfigure\u001b[39m.\u001b[39;49mdraw(renderer)\n\u001b[0;32m   2316\u001b[0m \u001b[39mif\u001b[39;00m bbox_inches:\n\u001b[0;32m   2317\u001b[0m     \u001b[39mif\u001b[39;00m bbox_inches \u001b[39m==\u001b[39m \u001b[39m\"\u001b[39m\u001b[39mtight\u001b[39m\u001b[39m\"\u001b[39m:\n",
      "File \u001b[1;32mc:\\Users\\mgzzg\\AppData\\Local\\Programs\\Python\\Python310\\lib\\site-packages\\matplotlib\\artist.py:74\u001b[0m, in \u001b[0;36m_finalize_rasterization.<locals>.draw_wrapper\u001b[1;34m(artist, renderer, *args, **kwargs)\u001b[0m\n\u001b[0;32m     72\u001b[0m \u001b[39m@wraps\u001b[39m(draw)\n\u001b[0;32m     73\u001b[0m \u001b[39mdef\u001b[39;00m \u001b[39mdraw_wrapper\u001b[39m(artist, renderer, \u001b[39m*\u001b[39margs, \u001b[39m*\u001b[39m\u001b[39m*\u001b[39mkwargs):\n\u001b[1;32m---> 74\u001b[0m     result \u001b[39m=\u001b[39m draw(artist, renderer, \u001b[39m*\u001b[39margs, \u001b[39m*\u001b[39m\u001b[39m*\u001b[39mkwargs)\n\u001b[0;32m     75\u001b[0m     \u001b[39mif\u001b[39;00m renderer\u001b[39m.\u001b[39m_rasterizing:\n\u001b[0;32m     76\u001b[0m         renderer\u001b[39m.\u001b[39mstop_rasterizing()\n",
      "File \u001b[1;32mc:\\Users\\mgzzg\\AppData\\Local\\Programs\\Python\\Python310\\lib\\site-packages\\matplotlib\\artist.py:51\u001b[0m, in \u001b[0;36mallow_rasterization.<locals>.draw_wrapper\u001b[1;34m(artist, renderer)\u001b[0m\n\u001b[0;32m     48\u001b[0m     \u001b[39mif\u001b[39;00m artist\u001b[39m.\u001b[39mget_agg_filter() \u001b[39mis\u001b[39;00m \u001b[39mnot\u001b[39;00m \u001b[39mNone\u001b[39;00m:\n\u001b[0;32m     49\u001b[0m         renderer\u001b[39m.\u001b[39mstart_filter()\n\u001b[1;32m---> 51\u001b[0m     \u001b[39mreturn\u001b[39;00m draw(artist, renderer)\n\u001b[0;32m     52\u001b[0m \u001b[39mfinally\u001b[39;00m:\n\u001b[0;32m     53\u001b[0m     \u001b[39mif\u001b[39;00m artist\u001b[39m.\u001b[39mget_agg_filter() \u001b[39mis\u001b[39;00m \u001b[39mnot\u001b[39;00m \u001b[39mNone\u001b[39;00m:\n",
      "File \u001b[1;32mc:\\Users\\mgzzg\\AppData\\Local\\Programs\\Python\\Python310\\lib\\site-packages\\matplotlib\\figure.py:3074\u001b[0m, in \u001b[0;36mFigure.draw\u001b[1;34m(self, renderer)\u001b[0m\n\u001b[0;32m   3071\u001b[0m         \u001b[39m# ValueError can occur when resizing a window.\u001b[39;00m\n\u001b[0;32m   3073\u001b[0m \u001b[39mself\u001b[39m\u001b[39m.\u001b[39mpatch\u001b[39m.\u001b[39mdraw(renderer)\n\u001b[1;32m-> 3074\u001b[0m mimage\u001b[39m.\u001b[39;49m_draw_list_compositing_images(\n\u001b[0;32m   3075\u001b[0m     renderer, \u001b[39mself\u001b[39;49m, artists, \u001b[39mself\u001b[39;49m\u001b[39m.\u001b[39;49msuppressComposite)\n\u001b[0;32m   3077\u001b[0m \u001b[39mfor\u001b[39;00m sfig \u001b[39min\u001b[39;00m \u001b[39mself\u001b[39m\u001b[39m.\u001b[39msubfigs:\n\u001b[0;32m   3078\u001b[0m     sfig\u001b[39m.\u001b[39mdraw(renderer)\n",
      "File \u001b[1;32mc:\\Users\\mgzzg\\AppData\\Local\\Programs\\Python\\Python310\\lib\\site-packages\\matplotlib\\image.py:131\u001b[0m, in \u001b[0;36m_draw_list_compositing_images\u001b[1;34m(renderer, parent, artists, suppress_composite)\u001b[0m\n\u001b[0;32m    129\u001b[0m \u001b[39mif\u001b[39;00m not_composite \u001b[39mor\u001b[39;00m \u001b[39mnot\u001b[39;00m has_images:\n\u001b[0;32m    130\u001b[0m     \u001b[39mfor\u001b[39;00m a \u001b[39min\u001b[39;00m artists:\n\u001b[1;32m--> 131\u001b[0m         a\u001b[39m.\u001b[39;49mdraw(renderer)\n\u001b[0;32m    132\u001b[0m \u001b[39melse\u001b[39;00m:\n\u001b[0;32m    133\u001b[0m     \u001b[39m# Composite any adjacent images together\u001b[39;00m\n\u001b[0;32m    134\u001b[0m     image_group \u001b[39m=\u001b[39m []\n",
      "File \u001b[1;32mc:\\Users\\mgzzg\\AppData\\Local\\Programs\\Python\\Python310\\lib\\site-packages\\matplotlib\\artist.py:51\u001b[0m, in \u001b[0;36mallow_rasterization.<locals>.draw_wrapper\u001b[1;34m(artist, renderer)\u001b[0m\n\u001b[0;32m     48\u001b[0m     \u001b[39mif\u001b[39;00m artist\u001b[39m.\u001b[39mget_agg_filter() \u001b[39mis\u001b[39;00m \u001b[39mnot\u001b[39;00m \u001b[39mNone\u001b[39;00m:\n\u001b[0;32m     49\u001b[0m         renderer\u001b[39m.\u001b[39mstart_filter()\n\u001b[1;32m---> 51\u001b[0m     \u001b[39mreturn\u001b[39;00m draw(artist, renderer)\n\u001b[0;32m     52\u001b[0m \u001b[39mfinally\u001b[39;00m:\n\u001b[0;32m     53\u001b[0m     \u001b[39mif\u001b[39;00m artist\u001b[39m.\u001b[39mget_agg_filter() \u001b[39mis\u001b[39;00m \u001b[39mnot\u001b[39;00m \u001b[39mNone\u001b[39;00m:\n",
      "File \u001b[1;32mc:\\Users\\mgzzg\\AppData\\Local\\Programs\\Python\\Python310\\lib\\site-packages\\matplotlib\\axes\\_base.py:3107\u001b[0m, in \u001b[0;36m_AxesBase.draw\u001b[1;34m(self, renderer)\u001b[0m\n\u001b[0;32m   3104\u001b[0m         a\u001b[39m.\u001b[39mdraw(renderer)\n\u001b[0;32m   3105\u001b[0m     renderer\u001b[39m.\u001b[39mstop_rasterizing()\n\u001b[1;32m-> 3107\u001b[0m mimage\u001b[39m.\u001b[39;49m_draw_list_compositing_images(\n\u001b[0;32m   3108\u001b[0m     renderer, \u001b[39mself\u001b[39;49m, artists, \u001b[39mself\u001b[39;49m\u001b[39m.\u001b[39;49mfigure\u001b[39m.\u001b[39;49msuppressComposite)\n\u001b[0;32m   3110\u001b[0m renderer\u001b[39m.\u001b[39mclose_group(\u001b[39m'\u001b[39m\u001b[39maxes\u001b[39m\u001b[39m'\u001b[39m)\n\u001b[0;32m   3111\u001b[0m \u001b[39mself\u001b[39m\u001b[39m.\u001b[39mstale \u001b[39m=\u001b[39m \u001b[39mFalse\u001b[39;00m\n",
      "File \u001b[1;32mc:\\Users\\mgzzg\\AppData\\Local\\Programs\\Python\\Python310\\lib\\site-packages\\matplotlib\\image.py:131\u001b[0m, in \u001b[0;36m_draw_list_compositing_images\u001b[1;34m(renderer, parent, artists, suppress_composite)\u001b[0m\n\u001b[0;32m    129\u001b[0m \u001b[39mif\u001b[39;00m not_composite \u001b[39mor\u001b[39;00m \u001b[39mnot\u001b[39;00m has_images:\n\u001b[0;32m    130\u001b[0m     \u001b[39mfor\u001b[39;00m a \u001b[39min\u001b[39;00m artists:\n\u001b[1;32m--> 131\u001b[0m         a\u001b[39m.\u001b[39;49mdraw(renderer)\n\u001b[0;32m    132\u001b[0m \u001b[39melse\u001b[39;00m:\n\u001b[0;32m    133\u001b[0m     \u001b[39m# Composite any adjacent images together\u001b[39;00m\n\u001b[0;32m    134\u001b[0m     image_group \u001b[39m=\u001b[39m []\n",
      "File \u001b[1;32mc:\\Users\\mgzzg\\AppData\\Local\\Programs\\Python\\Python310\\lib\\site-packages\\matplotlib\\artist.py:51\u001b[0m, in \u001b[0;36mallow_rasterization.<locals>.draw_wrapper\u001b[1;34m(artist, renderer)\u001b[0m\n\u001b[0;32m     48\u001b[0m     \u001b[39mif\u001b[39;00m artist\u001b[39m.\u001b[39mget_agg_filter() \u001b[39mis\u001b[39;00m \u001b[39mnot\u001b[39;00m \u001b[39mNone\u001b[39;00m:\n\u001b[0;32m     49\u001b[0m         renderer\u001b[39m.\u001b[39mstart_filter()\n\u001b[1;32m---> 51\u001b[0m     \u001b[39mreturn\u001b[39;00m draw(artist, renderer)\n\u001b[0;32m     52\u001b[0m \u001b[39mfinally\u001b[39;00m:\n\u001b[0;32m     53\u001b[0m     \u001b[39mif\u001b[39;00m artist\u001b[39m.\u001b[39mget_agg_filter() \u001b[39mis\u001b[39;00m \u001b[39mnot\u001b[39;00m \u001b[39mNone\u001b[39;00m:\n",
      "File \u001b[1;32mc:\\Users\\mgzzg\\AppData\\Local\\Programs\\Python\\Python310\\lib\\site-packages\\matplotlib\\collections.py:2148\u001b[0m, in \u001b[0;36mQuadMesh.draw\u001b[1;34m(self, renderer)\u001b[0m\n\u001b[0;32m   2145\u001b[0m     ys \u001b[39m=\u001b[39m \u001b[39mself\u001b[39m\u001b[39m.\u001b[39mconvert_yunits(offsets[:, \u001b[39m1\u001b[39m])\n\u001b[0;32m   2146\u001b[0m     offsets \u001b[39m=\u001b[39m np\u001b[39m.\u001b[39mcolumn_stack([xs, ys])\n\u001b[1;32m-> 2148\u001b[0m \u001b[39mself\u001b[39;49m\u001b[39m.\u001b[39;49mupdate_scalarmappable()\n\u001b[0;32m   2150\u001b[0m \u001b[39mif\u001b[39;00m \u001b[39mnot\u001b[39;00m transform\u001b[39m.\u001b[39mis_affine:\n\u001b[0;32m   2151\u001b[0m     coordinates \u001b[39m=\u001b[39m \u001b[39mself\u001b[39m\u001b[39m.\u001b[39m_coordinates\u001b[39m.\u001b[39mreshape((\u001b[39m-\u001b[39m\u001b[39m1\u001b[39m, \u001b[39m2\u001b[39m))\n",
      "File \u001b[1;32mc:\\Users\\mgzzg\\AppData\\Local\\Programs\\Python\\Python310\\lib\\site-packages\\matplotlib\\collections.py:891\u001b[0m, in \u001b[0;36mCollection.update_scalarmappable\u001b[1;34m(self)\u001b[0m\n\u001b[0;32m    889\u001b[0m         \u001b[39m# pcolormesh, scatter, maybe others flatten their _A\u001b[39;00m\n\u001b[0;32m    890\u001b[0m         \u001b[39mself\u001b[39m\u001b[39m.\u001b[39m_alpha \u001b[39m=\u001b[39m \u001b[39mself\u001b[39m\u001b[39m.\u001b[39m_alpha\u001b[39m.\u001b[39mreshape(\u001b[39mself\u001b[39m\u001b[39m.\u001b[39m_A\u001b[39m.\u001b[39mshape)\n\u001b[1;32m--> 891\u001b[0m     \u001b[39mself\u001b[39m\u001b[39m.\u001b[39m_mapped_colors \u001b[39m=\u001b[39m \u001b[39mself\u001b[39;49m\u001b[39m.\u001b[39;49mto_rgba(\u001b[39mself\u001b[39;49m\u001b[39m.\u001b[39;49m_A, \u001b[39mself\u001b[39;49m\u001b[39m.\u001b[39;49m_alpha)\n\u001b[0;32m    893\u001b[0m \u001b[39mif\u001b[39;00m \u001b[39mself\u001b[39m\u001b[39m.\u001b[39m_face_is_mapped:\n\u001b[0;32m    894\u001b[0m     \u001b[39mself\u001b[39m\u001b[39m.\u001b[39m_facecolors \u001b[39m=\u001b[39m \u001b[39mself\u001b[39m\u001b[39m.\u001b[39m_mapped_colors\n",
      "File \u001b[1;32mc:\\Users\\mgzzg\\AppData\\Local\\Programs\\Python\\Python310\\lib\\site-packages\\matplotlib\\cm.py:512\u001b[0m, in \u001b[0;36mScalarMappable.to_rgba\u001b[1;34m(self, x, alpha, bytes, norm)\u001b[0m\n\u001b[0;32m    510\u001b[0m \u001b[39mif\u001b[39;00m norm:\n\u001b[0;32m    511\u001b[0m     x \u001b[39m=\u001b[39m \u001b[39mself\u001b[39m\u001b[39m.\u001b[39mnorm(x)\n\u001b[1;32m--> 512\u001b[0m rgba \u001b[39m=\u001b[39m \u001b[39mself\u001b[39;49m\u001b[39m.\u001b[39;49mcmap(x, alpha\u001b[39m=\u001b[39;49malpha, \u001b[39mbytes\u001b[39;49m\u001b[39m=\u001b[39;49m\u001b[39mbytes\u001b[39;49m)\n\u001b[0;32m    513\u001b[0m \u001b[39mreturn\u001b[39;00m rgba\n",
      "File \u001b[1;32mc:\\Users\\mgzzg\\AppData\\Local\\Programs\\Python\\Python310\\lib\\site-packages\\matplotlib\\colors.py:734\u001b[0m, in \u001b[0;36mColormap.__call__\u001b[1;34m(self, X, alpha, bytes)\u001b[0m\n\u001b[0;32m    731\u001b[0m \u001b[39mif\u001b[39;00m \u001b[39mbytes\u001b[39m:\n\u001b[0;32m    732\u001b[0m     lut \u001b[39m=\u001b[39m (lut \u001b[39m*\u001b[39m \u001b[39m255\u001b[39m)\u001b[39m.\u001b[39mastype(np\u001b[39m.\u001b[39muint8)\n\u001b[1;32m--> 734\u001b[0m rgba \u001b[39m=\u001b[39m lut\u001b[39m.\u001b[39;49mtake(xa, axis\u001b[39m=\u001b[39;49m\u001b[39m0\u001b[39;49m, mode\u001b[39m=\u001b[39;49m\u001b[39m'\u001b[39;49m\u001b[39mclip\u001b[39;49m\u001b[39m'\u001b[39;49m)\n\u001b[0;32m    736\u001b[0m \u001b[39mif\u001b[39;00m alpha \u001b[39mis\u001b[39;00m \u001b[39mnot\u001b[39;00m \u001b[39mNone\u001b[39;00m:\n\u001b[0;32m    737\u001b[0m     alpha \u001b[39m=\u001b[39m np\u001b[39m.\u001b[39mclip(alpha, \u001b[39m0\u001b[39m, \u001b[39m1\u001b[39m)\n",
      "\u001b[1;31mMemoryError\u001b[0m: Unable to allocate 1.49 GiB for an array with shape (50000000, 4) and data type float64"
     ]
    },
    {
     "data": {
      "text/plain": [
       "<Figure size 432x288 with 2 Axes>"
      ]
     },
     "metadata": {
      "needs_background": "light"
     },
     "output_type": "display_data"
    }
   ],
   "source": [
    "rho_1 = calculate(np.zeros((int(MAX_RADIUS / dr), int(MAX_ITER_TIME / dt))), 0.7, 1, dt, dr, u0)\n",
    "plt.figure()\n",
    "plt.title(\"Cell density of a Small, Compact tumor\")\n",
    "plt.ylabel(\"Radius [mm]\")\n",
    "plt.xlabel(\"Time [years]\")\n",
    "plt.pcolormesh(Time, Radius, rho_1, cmap=\"jet\", vmin=0)\n",
    "plt.colorbar()"
   ]
  }
 ],
 "metadata": {
  "kernelspec": {
   "display_name": "Python 3.10.8 64-bit",
   "language": "python",
   "name": "python3"
  },
  "language_info": {
   "codemirror_mode": {
    "name": "ipython",
    "version": 3
   },
   "file_extension": ".py",
   "mimetype": "text/x-python",
   "name": "python",
   "nbconvert_exporter": "python",
   "pygments_lexer": "ipython3",
   "version": "3.10.8 (tags/v3.10.8:aaaf517, Oct 11 2022, 16:50:30) [MSC v.1933 64 bit (AMD64)]"
  },
  "orig_nbformat": 4,
  "vscode": {
   "interpreter": {
    "hash": "f0d19069fd8f020fa5472c508cc2a848e65b399e6b568e5d8ab97f10e19ca8b7"
   }
  }
 },
 "nbformat": 4,
 "nbformat_minor": 2
}
